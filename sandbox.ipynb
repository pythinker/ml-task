{
 "cells": [
  {
   "cell_type": "code",
   "execution_count": 32,
   "metadata": {},
   "outputs": [],
   "source": [
    "df = pd.read_csv('spring-financial-task/data/ds_project_train_v1.csv')"
   ]
  },
  {
   "cell_type": "code",
   "execution_count": 34,
   "metadata": {},
   "outputs": [
    {
     "data": {
      "text/plain": [
       "category\n",
       "Food and Drink               87221\n",
       "Shopping                     54722\n",
       "Transportation               20152\n",
       "Groceries                    17264\n",
       "Transfers and Withdrawals    13536\n",
       "Health                       11441\n",
       "Recreation                   11312\n",
       "Financial Services            6844\n",
       "Housing and Utilities         5053\n",
       "Income                        4379\n",
       "Travel and Leisure            3706\n",
       "Education                     1091\n",
       "Obligations                    773\n",
       "Donations                      655\n",
       "Miscellaneous                  627\n",
       "Benefits                       171\n",
       "Name: count, dtype: int64"
      ]
     },
     "execution_count": 34,
     "metadata": {},
     "output_type": "execute_result"
    }
   ],
   "source": [
    "df['category'].value_counts()"
   ]
  },
  {
   "cell_type": "code",
   "execution_count": null,
   "metadata": {},
   "outputs": [],
   "source": []
  }
 ],
 "metadata": {
  "kernelspec": {
   "display_name": "Python 3 (ipykernel)",
   "language": "python",
   "name": "python3"
  }
 },
 "nbformat": 4,
 "nbformat_minor": 2
}
